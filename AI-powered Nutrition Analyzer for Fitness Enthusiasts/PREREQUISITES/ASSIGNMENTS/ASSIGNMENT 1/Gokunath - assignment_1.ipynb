{
 "cells": [
  {
   "cell_type": "markdown",
   "metadata": {
    "id": "McSxJAwcOdZ1"
   },
   "source": [
    "# Basic Python"
   ]
  },
  {
   "cell_type": "markdown",
   "metadata": {
    "id": "CU48hgo4Owz5"
   },
   "source": [
    "## 1. Split this string"
   ]
  },
  {
   "cell_type": "code",
   "execution_count": null,
   "metadata": {
    "id": "3xcKRrCuvUKx"
   },
   "outputs": [],
   "source": []
  },
  {
   "cell_type": "code",
   "execution_count": null,
   "metadata": {
    "id": "s07c7JK7Oqt-"
   },
   "outputs": [],
   "source": [
    "s = \"Hi there Sam!\""
   ]
  },
  {
   "cell_type": "code",
   "execution_count": null,
   "metadata": {
    "colab": {
     "base_uri": "https://localhost:8080/"
    },
    "executionInfo": {
     "elapsed": 784,
     "status": "ok",
     "timestamp": 1662818631363,
     "user": {
      "displayName": "Arun prasath Karthikeyan",
      "userId": "03161726099245622641"
     },
     "user_tz": -330
    },
    "id": "6mGVa3SQYLkb",
    "outputId": "06bf2eb2-8c22-4ecb-f929-d56ee72bde44"
   },
   "outputs": [
    {
     "name": "stdout",
     "output_type": "stream",
     "text": [
      "['Hi', 'there', 'Sam!']\n"
     ]
    }
   ],
   "source": [
    "s=\"Hi there Sam!\"\n",
    "s=s.split()\n",
    "print(s)"
   ]
  },
  {
   "cell_type": "markdown",
   "metadata": {
    "id": "GH1QBn8HP375"
   },
   "source": [
    "## 2. Use .format() to print the following string. \n",
    "\n",
    "### Output should be: The diameter of Earth is 12742 kilometers."
   ]
  },
  {
   "cell_type": "code",
   "execution_count": null,
   "metadata": {
    "id": "_ZHoml3kPqic"
   },
   "outputs": [],
   "source": [
    "planet = \"Earth\"\n",
    "diameter = 12742"
   ]
  },
  {
   "cell_type": "code",
   "execution_count": null,
   "metadata": {
    "colab": {
     "base_uri": "https://localhost:8080/"
    },
    "executionInfo": {
     "elapsed": 915,
     "status": "ok",
     "timestamp": 1662818776003,
     "user": {
      "displayName": "Arun prasath Karthikeyan",
      "userId": "03161726099245622641"
     },
     "user_tz": -330
    },
    "id": "HyRyJv6CYPb4",
    "outputId": "93174470-3fd7-48ae-c6ab-908a38dc6ef3"
   },
   "outputs": [
    {
     "name": "stdout",
     "output_type": "stream",
     "text": [
      "The diameter of Earth is 12742 kilometers.\n"
     ]
    }
   ],
   "source": [
    "print(\"The diameter of {} is {} kilometers.\".format(planet,diameter))"
   ]
  },
  {
   "cell_type": "markdown",
   "metadata": {
    "id": "KE74ZEwkRExZ"
   },
   "source": [
    "## 3. In this nest dictionary grab the word \"hello\""
   ]
  },
  {
   "cell_type": "code",
   "execution_count": null,
   "metadata": {
    "id": "fcVwbCc1QrQI"
   },
   "outputs": [],
   "source": [
    "d = {'k1':[1,2,3,{'tricky':['oh','man','inception',{'target':[1,2,3,'hello']}]}]}"
   ]
  },
  {
   "cell_type": "code",
   "execution_count": null,
   "metadata": {
    "colab": {
     "base_uri": "https://localhost:8080/"
    },
    "executionInfo": {
     "elapsed": 573,
     "status": "ok",
     "timestamp": 1662818544033,
     "user": {
      "displayName": "Arun prasath Karthikeyan",
      "userId": "03161726099245622641"
     },
     "user_tz": -330
    },
    "id": "MvbkMZpXYRaw",
    "outputId": "94c057a9-f094-471f-9af2-f9089c7104f8"
   },
   "outputs": [
    {
     "name": "stdout",
     "output_type": "stream",
     "text": [
      "hello\n"
     ]
    }
   ],
   "source": [
    "d = {'k1':[1,2,3,{'tricky':['oh','man','inception',{'target':[1,2,3,'hello']}]}]}\n",
    "print(d['k1'][3][\"tricky\"][3]['target'][3])"
   ]
  },
  {
   "cell_type": "markdown",
   "metadata": {
    "id": "bw0vVp-9ddjv"
   },
   "source": [
    "# Numpy"
   ]
  },
  {
   "cell_type": "code",
   "execution_count": null,
   "metadata": {
    "id": "LLiE_TYrhA1O"
   },
   "outputs": [],
   "source": [
    "import numpy as np"
   ]
  },
  {
   "cell_type": "markdown",
   "metadata": {
    "id": "wOg8hinbgx30"
   },
   "source": [
    "## 4.1 Create an array of 10 zeros? \n",
    "## 4.2 Create an array of 10 fives?"
   ]
  },
  {
   "cell_type": "code",
   "execution_count": null,
   "metadata": {
    "colab": {
     "base_uri": "https://localhost:8080/"
    },
    "executionInfo": {
     "elapsed": 580,
     "status": "ok",
     "timestamp": 1662818427313,
     "user": {
      "displayName": "Arun prasath Karthikeyan",
      "userId": "03161726099245622641"
     },
     "user_tz": -330
    },
    "id": "NHrirmgCYXvU",
    "outputId": "6fea3727-efb2-4c66-da29-e029d4a686e3"
   },
   "outputs": [
    {
     "name": "stdout",
     "output_type": "stream",
     "text": [
      "An array of 10 zeros:\n",
      "[0. 0. 0. 0. 0. 0. 0. 0. 0. 0.]\n"
     ]
    }
   ],
   "source": [
    "import numpy as np\n",
    "array=np.zeros(10)\n",
    "print(\"An array of 10 zeros:\")\n",
    "print(array)"
   ]
  },
  {
   "cell_type": "code",
   "execution_count": null,
   "metadata": {
    "colab": {
     "base_uri": "https://localhost:8080/"
    },
    "executionInfo": {
     "elapsed": 532,
     "status": "ok",
     "timestamp": 1662818468812,
     "user": {
      "displayName": "Arun prasath Karthikeyan",
      "userId": "03161726099245622641"
     },
     "user_tz": -330
    },
    "id": "e4005lsTYXxx",
    "outputId": "2f7cd260-63db-44f3-9f52-7ae558990f4f"
   },
   "outputs": [
    {
     "name": "stdout",
     "output_type": "stream",
     "text": [
      "An array of 10 fives:\n",
      "[5. 5. 5. 5. 5. 5. 5. 5. 5. 5.]\n"
     ]
    }
   ],
   "source": [
    "array=np.ones(10)\n",
    "array=np.ones(10)*5\n",
    "print(\"An array of 10 fives:\")\n",
    "print(array)"
   ]
  },
  {
   "cell_type": "markdown",
   "metadata": {
    "id": "gZHHDUBvrMX4"
   },
   "source": [
    "## 5. Create an array of all the even integers from 20 to 35"
   ]
  },
  {
   "cell_type": "code",
   "execution_count": null,
   "metadata": {
    "colab": {
     "base_uri": "https://localhost:8080/"
    },
    "executionInfo": {
     "elapsed": 652,
     "status": "ok",
     "timestamp": 1662818365237,
     "user": {
      "displayName": "Arun prasath Karthikeyan",
      "userId": "03161726099245622641"
     },
     "user_tz": -330
    },
    "id": "oAI2tbU2Yag-",
    "outputId": "a65eba01-92eb-4a42-c1f5-052cc44094e2"
   },
   "outputs": [
    {
     "name": "stdout",
     "output_type": "stream",
     "text": [
      "Array of all the even integers from 20 to 35\n",
      "[20 22 24 26 28 30 32 34]\n"
     ]
    }
   ],
   "source": [
    "import numpy as np\n",
    "array=np.arange(20,35,2)\n",
    "print(\"Array of all the even integers from 20 to 35\")\n",
    "print(array)"
   ]
  },
  {
   "cell_type": "markdown",
   "metadata": {
    "id": "NaOM308NsRpZ"
   },
   "source": [
    "## 6. Create a 3x3 matrix with values ranging from 0 to 8"
   ]
  },
  {
   "cell_type": "code",
   "execution_count": null,
   "metadata": {
    "colab": {
     "base_uri": "https://localhost:8080/"
    },
    "executionInfo": {
     "elapsed": 563,
     "status": "ok",
     "timestamp": 1662818294206,
     "user": {
      "displayName": "Arun prasath Karthikeyan",
      "userId": "03161726099245622641"
     },
     "user_tz": -330
    },
    "id": "tOlEVH7BYceE",
    "outputId": "8e150358-b3b5-425c-bdb9-c9814bde5a45"
   },
   "outputs": [
    {
     "name": "stdout",
     "output_type": "stream",
     "text": [
      "[[0 1 2]\n",
      " [3 4 5]\n",
      " [6 7 8]]\n"
     ]
    }
   ],
   "source": [
    "import numpy as np\n",
    "x=np.arange(0,9).reshape(3,3)\n",
    "print(x)"
   ]
  },
  {
   "cell_type": "markdown",
   "metadata": {
    "id": "hQ0dnhAQuU_p"
   },
   "source": [
    "## 7. Concatinate a and b \n",
    "## a = np.array([1, 2, 3]), b = np.array([4, 5, 6])"
   ]
  },
  {
   "cell_type": "code",
   "execution_count": null,
   "metadata": {
    "colab": {
     "base_uri": "https://localhost:8080/"
    },
    "executionInfo": {
     "elapsed": 563,
     "status": "ok",
     "timestamp": 1662818098021,
     "user": {
      "displayName": "Arun prasath Karthikeyan",
      "userId": "03161726099245622641"
     },
     "user_tz": -330
    },
    "id": "rAPSw97aYfE0",
    "outputId": "8ed813ae-0c72-4a8c-da35-4beb9781b002"
   },
   "outputs": [
    {
     "name": "stdout",
     "output_type": "stream",
     "text": [
      "[1 2 3 4 5 6]\n"
     ]
    }
   ],
   "source": [
    "import numpy as np\n",
    "\n",
    "a = np.array([1, 2, 3])\n",
    "\n",
    "b = np.array([4, 5, 6])\n",
    "\n",
    "arr = np.concatenate((a, b))\n",
    "\n",
    "print(arr)"
   ]
  },
  {
   "cell_type": "markdown",
   "metadata": {
    "id": "dlPEY9DRwZga"
   },
   "source": [
    "# Pandas"
   ]
  },
  {
   "cell_type": "markdown",
   "metadata": {
    "id": "ijoYW51zwr87"
   },
   "source": [
    "## 8. Create a dataframe with 3 rows and 2 columns"
   ]
  },
  {
   "cell_type": "code",
   "execution_count": null,
   "metadata": {
    "id": "T5OxJRZ8uvR7"
   },
   "outputs": [],
   "source": [
    "import pandas as pd"
   ]
  },
  {
   "cell_type": "code",
   "execution_count": null,
   "metadata": {
    "id": "xNpI_XXoYhs0"
   },
   "outputs": [],
   "source": [
    "data = [['raj', 10], ['pranav', 15], ['robert', 14]]"
   ]
  },
  {
   "cell_type": "code",
   "execution_count": null,
   "metadata": {
    "id": "n8QCCRbbgcms"
   },
   "outputs": [],
   "source": [
    "df = pd.DataFrame(data, columns=['Name', 'Age'])"
   ]
  },
  {
   "cell_type": "code",
   "execution_count": null,
   "metadata": {
    "colab": {
     "base_uri": "https://localhost:8080/"
    },
    "executionInfo": {
     "elapsed": 24,
     "status": "ok",
     "timestamp": 1662817893023,
     "user": {
      "displayName": "Arun prasath Karthikeyan",
      "userId": "03161726099245622641"
     },
     "user_tz": -330
    },
    "id": "b_1K4GP7gcdF",
    "outputId": "a3afb155-1f92-41c9-c4ab-f392c56c024a"
   },
   "outputs": [
    {
     "name": "stdout",
     "output_type": "stream",
     "text": [
      "     Name  Age\n",
      "0     raj   10\n",
      "1  pranav   15\n",
      "2  robert   14\n"
     ]
    }
   ],
   "source": [
    "print(df)"
   ]
  },
  {
   "cell_type": "markdown",
   "metadata": {
    "id": "UXSmdNclyJQD"
   },
   "source": [
    "## 9. Generate the series of dates from 1st Jan, 2023 to 10th Feb, 2023"
   ]
  },
  {
   "cell_type": "code",
   "execution_count": null,
   "metadata": {
    "colab": {
     "base_uri": "https://localhost:8080/"
    },
    "executionInfo": {
     "elapsed": 1838,
     "status": "ok",
     "timestamp": 1662817677910,
     "user": {
      "displayName": "Arun prasath Karthikeyan",
      "userId": "03161726099245622641"
     },
     "user_tz": -330
    },
    "id": "dgyC0JhVYl4F",
    "outputId": "f893d802-b45d-4379-c3f4-907313a2c989"
   },
   "outputs": [
    {
     "data": {
      "text/plain": [
       "[datetime.datetime(2023, 1, 1, 0, 0),\n",
       " datetime.datetime(2023, 1, 2, 0, 0),\n",
       " datetime.datetime(2023, 1, 3, 0, 0),\n",
       " datetime.datetime(2023, 1, 4, 0, 0),\n",
       " datetime.datetime(2023, 1, 5, 0, 0),\n",
       " datetime.datetime(2023, 1, 6, 0, 0),\n",
       " datetime.datetime(2023, 1, 7, 0, 0),\n",
       " datetime.datetime(2023, 1, 8, 0, 0),\n",
       " datetime.datetime(2023, 1, 9, 0, 0),\n",
       " datetime.datetime(2023, 1, 10, 0, 0),\n",
       " datetime.datetime(2023, 1, 11, 0, 0),\n",
       " datetime.datetime(2023, 1, 12, 0, 0),\n",
       " datetime.datetime(2023, 1, 13, 0, 0),\n",
       " datetime.datetime(2023, 1, 14, 0, 0),\n",
       " datetime.datetime(2023, 1, 15, 0, 0),\n",
       " datetime.datetime(2023, 1, 16, 0, 0),\n",
       " datetime.datetime(2023, 1, 17, 0, 0),\n",
       " datetime.datetime(2023, 1, 18, 0, 0),\n",
       " datetime.datetime(2023, 1, 19, 0, 0),\n",
       " datetime.datetime(2023, 1, 20, 0, 0),\n",
       " datetime.datetime(2023, 1, 21, 0, 0),\n",
       " datetime.datetime(2023, 1, 22, 0, 0),\n",
       " datetime.datetime(2023, 1, 23, 0, 0),\n",
       " datetime.datetime(2023, 1, 24, 0, 0),\n",
       " datetime.datetime(2023, 1, 25, 0, 0),\n",
       " datetime.datetime(2023, 1, 26, 0, 0),\n",
       " datetime.datetime(2023, 1, 27, 0, 0),\n",
       " datetime.datetime(2023, 1, 28, 0, 0),\n",
       " datetime.datetime(2023, 1, 29, 0, 0),\n",
       " datetime.datetime(2023, 1, 30, 0, 0),\n",
       " datetime.datetime(2023, 1, 31, 0, 0),\n",
       " datetime.datetime(2023, 2, 1, 0, 0),\n",
       " datetime.datetime(2023, 2, 2, 0, 0),\n",
       " datetime.datetime(2023, 2, 3, 0, 0),\n",
       " datetime.datetime(2023, 2, 4, 0, 0),\n",
       " datetime.datetime(2023, 2, 5, 0, 0),\n",
       " datetime.datetime(2023, 2, 6, 0, 0),\n",
       " datetime.datetime(2023, 2, 7, 0, 0),\n",
       " datetime.datetime(2023, 2, 8, 0, 0),\n",
       " datetime.datetime(2023, 2, 9, 0, 0),\n",
       " datetime.datetime(2023, 2, 10, 0, 0)]"
      ]
     },
     "execution_count": 3,
     "metadata": {},
     "output_type": "execute_result"
    }
   ],
   "source": [
    "import pandas as pd\n",
    "from datetime import datetime\n",
    "pd.date_range(start=\"2023-01-01\",end=\"2023-02-10\").to_pydatetime().tolist()"
   ]
  },
  {
   "cell_type": "code",
   "execution_count": null,
   "metadata": {},
   "outputs": [],
   "source": []
  },
  {
   "cell_type": "markdown",
   "metadata": {
    "id": "ZizSetD-y5az"
   },
   "source": [
    "## 10. Create 2D list to DataFrame\n",
    "\n",
    "lists = [[1, 'aaa', 22],\n",
    "         [2, 'bbb', 25],\n",
    "         [3, 'ccc', 24]]"
   ]
  },
  {
   "cell_type": "code",
   "execution_count": null,
   "metadata": {
    "id": "_XMC8aEt0llB"
   },
   "outputs": [],
   "source": [
    "lists = [[1, 'aaa', 22], [2, 'bbb', 25], [3, 'ccc', 24]]"
   ]
  },
  {
   "cell_type": "code",
   "execution_count": null,
   "metadata": {
    "colab": {
     "base_uri": "https://localhost:8080/"
    },
    "executionInfo": {
     "elapsed": 32,
     "status": "ok",
     "timestamp": 1662817116840,
     "user": {
      "displayName": "Arun prasath Karthikeyan",
      "userId": "03161726099245622641"
     },
     "user_tz": -330
    },
    "id": "knH76sDKYsVX",
    "outputId": "7b46f71b-e92a-435d-ea20-10b9e46e27c9"
   },
   "outputs": [
    {
     "name": "stdout",
     "output_type": "stream",
     "text": [
      "   no name  age\n",
      "0   1  aaa   22\n",
      "1   2  bbb   25\n",
      "2   3  ccc   24\n"
     ]
    }
   ],
   "source": [
    "import pandas as pd\n",
    "df=pd.DataFrame(lists,columns=['no','name','age'])\n",
    "print(df)"
   ]
  }
 ],
 "metadata": {
  "colab": {
   "collapsed_sections": [],
   "provenance": [
    {
     "file_id": "1AitFVT-JGq6_i669IbjnYWvY6vGv7iac",
     "timestamp": 1662809403299
    },
    {
     "file_id": "1vryqwVR8ijdjLJQE_GGHzJ4NI3xFdCgf",
     "timestamp": 1662787798579
    }
   ]
  },
  "kernelspec": {
   "display_name": "Python 3 (ipykernel)",
   "language": "python",
   "name": "python3"
  },
  "language_info": {
   "codemirror_mode": {
    "name": "ipython",
    "version": 3
   },
   "file_extension": ".py",
   "mimetype": "text/x-python",
   "name": "python",
   "nbconvert_exporter": "python",
   "pygments_lexer": "ipython3",
   "version": "3.9.12"
  }
 },
 "nbformat": 4,
 "nbformat_minor": 1
}
